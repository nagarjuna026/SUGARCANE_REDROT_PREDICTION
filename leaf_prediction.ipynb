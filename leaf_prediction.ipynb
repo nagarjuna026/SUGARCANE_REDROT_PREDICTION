{
 "cells": [
  {
   "cell_type": "markdown",
   "metadata": {},
   "source": [
    "## Libraries"
   ]
  },
  {
   "cell_type": "code",
   "execution_count": 1,
   "metadata": {},
   "outputs": [
    {
     "name": "stdout",
     "output_type": "stream",
     "text": [
      "WARNING:tensorflow:From c:\\Users\\SAI\\anaconda3\\lib\\site-packages\\keras\\src\\losses.py:2976: The name tf.losses.sparse_softmax_cross_entropy is deprecated. Please use tf.compat.v1.losses.sparse_softmax_cross_entropy instead.\n",
      "\n"
     ]
    }
   ],
   "source": [
    "import os\n",
    "import numpy as np\n",
    "import matplotlib.pyplot as plt\n",
    "from sklearn.model_selection import train_test_split\n",
    "from tensorflow.keras import Sequential\n",
    "from tensorflow.keras.layers import Dense, GlobalAveragePooling2D\n",
    "from tensorflow.keras.applications import MobileNet\n",
    "from tensorflow.keras.optimizers import Adam\n",
    "from tensorflow.keras.preprocessing.image import load_img, img_to_array\n",
    "from tensorflow.keras.applications.mobilenet import preprocess_input\n"
   ]
  },
  {
   "cell_type": "markdown",
   "metadata": {},
   "source": [
    "## Preprocess"
   ]
  },
  {
   "cell_type": "code",
   "execution_count": 2,
   "metadata": {},
   "outputs": [],
   "source": [
    "def load_preprocess(dir, label):\n",
    "    images = []\n",
    "    labels = []\n",
    "    for file in os.listdir(dir):\n",
    "        img = load_img(os.path.join(dir, file), target_size=(224, 224))\n",
    "        img_array = img_to_array(img)\n",
    "        img_array = preprocess_input(img_array)  \n",
    "        images.append(img_array)\n",
    "        labels.append(label)\n",
    "\n",
    "    return np.array(images), np.array(labels)\n",
    "\n",
    "sugarcane_leaves_dir = 'sugarcane_leaves'\n",
    "non_sugarcane_leaves_dir= 'non_sugarcane_leaves'\n",
    "\n",
    "sugarcane_images, sugarcane_labels = load_preprocess(sugarcane_leaves_dir, 1)\n",
    "non_sugarcane_images, non_sugarcane_labels = load_preprocess(non_sugarcane_leaves_dir, 0)\n",
    "\n",
    "X = np.concatenate((sugarcane_images, non_sugarcane_images), axis=0)\n",
    "y = np.concatenate((sugarcane_labels, non_sugarcane_labels), axis=0)\n",
    "\n",
    "X_train, X_test, y_train, y_test = train_test_split(X, y, test_size=0.2, random_state=42)\n"
   ]
  },
  {
   "cell_type": "code",
   "execution_count": 3,
   "metadata": {},
   "outputs": [
    {
     "name": "stdout",
     "output_type": "stream",
     "text": [
      "WARNING:tensorflow:From c:\\Users\\SAI\\anaconda3\\lib\\site-packages\\keras\\src\\backend.py:1398: The name tf.executing_eagerly_outside_functions is deprecated. Please use tf.compat.v1.executing_eagerly_outside_functions instead.\n",
      "\n",
      "WARNING:tensorflow:From c:\\Users\\SAI\\anaconda3\\lib\\site-packages\\keras\\src\\layers\\normalization\\batch_normalization.py:979: The name tf.nn.fused_batch_norm is deprecated. Please use tf.compat.v1.nn.fused_batch_norm instead.\n",
      "\n"
     ]
    }
   ],
   "source": [
    "def mobilenet():\n",
    "    base_model = MobileNet(weights='imagenet', include_top=False, input_shape=(224, 224, 3))\n",
    "    for layer in base_model.layers:\n",
    "        layer.trainable = False\n",
    "\n",
    "    model = Sequential([\n",
    "        base_model,\n",
    "        GlobalAveragePooling2D(),\n",
    "        Dense(128, activation='relu'),\n",
    "        Dense(1, activation='sigmoid')\n",
    "    ])\n",
    "    return model\n",
    "\n",
    "model = mobilenet()"
   ]
  },
  {
   "cell_type": "code",
   "execution_count": 4,
   "metadata": {},
   "outputs": [],
   "source": [
    "model.compile(optimizer=Adam(), loss='binary_crossentropy', metrics=['accuracy'])\n"
   ]
  },
  {
   "cell_type": "code",
   "execution_count": 5,
   "metadata": {},
   "outputs": [
    {
     "name": "stdout",
     "output_type": "stream",
     "text": [
      "Epoch 1/10\n",
      "WARNING:tensorflow:From c:\\Users\\SAI\\anaconda3\\lib\\site-packages\\keras\\src\\utils\\tf_utils.py:492: The name tf.ragged.RaggedTensorValue is deprecated. Please use tf.compat.v1.ragged.RaggedTensorValue instead.\n",
      "\n",
      "WARNING:tensorflow:From c:\\Users\\SAI\\anaconda3\\lib\\site-packages\\keras\\src\\engine\\base_layer_utils.py:384: The name tf.executing_eagerly_outside_functions is deprecated. Please use tf.compat.v1.executing_eagerly_outside_functions instead.\n",
      "\n",
      "78/78 [==============================] - 43s 475ms/step - loss: 0.0206 - accuracy: 0.9866 - val_loss: 3.2680e-05 - val_accuracy: 1.0000\n",
      "Epoch 2/10\n",
      "78/78 [==============================] - 26s 335ms/step - loss: 2.0254e-05 - accuracy: 1.0000 - val_loss: 2.0295e-05 - val_accuracy: 1.0000\n",
      "Epoch 3/10\n",
      "78/78 [==============================] - 25s 316ms/step - loss: 1.2169e-05 - accuracy: 1.0000 - val_loss: 1.3709e-05 - val_accuracy: 1.0000\n",
      "Epoch 4/10\n",
      "78/78 [==============================] - 27s 354ms/step - loss: 8.0317e-06 - accuracy: 1.0000 - val_loss: 1.0138e-05 - val_accuracy: 1.0000\n",
      "Epoch 5/10\n",
      "78/78 [==============================] - 25s 318ms/step - loss: 5.6052e-06 - accuracy: 1.0000 - val_loss: 7.6942e-06 - val_accuracy: 1.0000\n",
      "Epoch 6/10\n",
      "78/78 [==============================] - 29s 368ms/step - loss: 4.1299e-06 - accuracy: 1.0000 - val_loss: 6.1508e-06 - val_accuracy: 1.0000\n",
      "Epoch 7/10\n",
      "78/78 [==============================] - 32s 416ms/step - loss: 3.1394e-06 - accuracy: 1.0000 - val_loss: 4.9962e-06 - val_accuracy: 1.0000\n",
      "Epoch 8/10\n",
      "78/78 [==============================] - 46s 589ms/step - loss: 2.4735e-06 - accuracy: 1.0000 - val_loss: 4.2156e-06 - val_accuracy: 1.0000\n",
      "Epoch 9/10\n",
      "78/78 [==============================] - 48s 614ms/step - loss: 2.0116e-06 - accuracy: 1.0000 - val_loss: 3.5936e-06 - val_accuracy: 1.0000\n",
      "Epoch 10/10\n",
      "78/78 [==============================] - 41s 520ms/step - loss: 1.6534e-06 - accuracy: 1.0000 - val_loss: 3.1277e-06 - val_accuracy: 1.0000\n"
     ]
    }
   ],
   "source": [
    "history = model.fit(X_train, y_train, epochs=10, batch_size=32, validation_data=(X_test, y_test))\n"
   ]
  },
  {
   "cell_type": "code",
   "execution_count": 6,
   "metadata": {},
   "outputs": [
    {
     "name": "stdout",
     "output_type": "stream",
     "text": [
      "1/1 [==============================] - 1s 1s/step\n",
      "Prediction for the image: Sugarcane leaf\n"
     ]
    }
   ],
   "source": [
    "def image_status(image_path, model):\n",
    "    img = load_img(image_path, target_size=(224, 224))\n",
    "    img_array = img_to_array(img)\n",
    "    img_array = preprocess_input(img_array)  \n",
    "    img_array = np.expand_dims(img_array, axis=0)\n",
    "\n",
    "    prediction = model.predict(img_array)\n",
    "\n",
    "    if prediction[0][0] > 0.5:\n",
    "        return \"Sugarcane leaf\"\n",
    "    else:\n",
    "        return \"Not a sugarcane leaf\"\n",
    "\n",
    "new_image_path = 'sugarcane_leaves/healthy_4.jpg'\n",
    "prediction = image_status(new_image_path, model)\n",
    "\n",
    "\n",
    "print(\"Prediction for the image:\", prediction)"
   ]
  }
 ],
 "metadata": {
  "kernelspec": {
   "display_name": "base",
   "language": "python",
   "name": "python3"
  },
  "language_info": {
   "codemirror_mode": {
    "name": "ipython",
    "version": 3
   },
   "file_extension": ".py",
   "mimetype": "text/x-python",
   "name": "python",
   "nbconvert_exporter": "python",
   "pygments_lexer": "ipython3",
   "version": "3.9.12"
  }
 },
 "nbformat": 4,
 "nbformat_minor": 2
}
